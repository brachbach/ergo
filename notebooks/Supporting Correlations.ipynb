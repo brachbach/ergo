{
 "cells": [
  {
   "cell_type": "code",
   "execution_count": 1,
   "metadata": {},
   "outputs": [
    {
     "name": "stderr",
     "output_type": "stream",
     "text": [
      "/Users/nix/Dropbox/Projects/Ergo/ergo/ergo/ppl.py:15: TqdmExperimentalWarning: Using `tqdm.autonotebook.tqdm` in notebook mode. Use `tqdm.tqdm` instead to force console mode (e.g. in jupyter console)\n",
      "  from tqdm.autonotebook import tqdm\n"
     ]
    }
   ],
   "source": [
    "import ergo\n",
    "import numpyro.distributions as dist\n",
    "from scipy import stats\n",
    "from seaborn import jointplot\n",
    "import numpy as np\n",
    "import matplotlib.pyplot as plt\n",
    "import pandas as pd"
   ]
  },
  {
   "cell_type": "markdown",
   "metadata": {},
   "source": [
    "# Generating correlated samples from distributions with known density functions\n",
    "\n",
    "It is fairly easy to generated correlated samples from two distributions if we can easily calculate the ppf function.  To do this we generate samples from a copula (a correlated multivariate distribution such that every marginal is uniform) and then we trasnform each dimension of the sample according to the ppf.  For a detailed explanation, I reccomend [this](https://twiecki.io/blog/2018/05/03/copulas/) simple blog post or [this](https://www.mathworks.com/help/stats/simulating-dependent-random-variables-using-copulas.html) more detailed explanation."
   ]
  },
  {
   "cell_type": "code",
   "execution_count": 2,
   "metadata": {},
   "outputs": [],
   "source": [
    "def correlated_distributions(ppf1, ppf2, corr):\n",
    "    \"\"\"\n",
    "    Generate two correlated ergo distributions\n",
    "    \n",
    "    :param dist1: scipy distribution with .ppf function\n",
    "    :param dist2: scipy distribution with .ppf function\n",
    "    :corr: correlation coefficient for underlying normal distribution\n",
    "    \"\"\"\n",
    "    \n",
    "    corr_norm = ergo.ppl.sample(dist.MultivariateNormal(0, covariance_matrix=[[1,corr], [corr,1]]))\n",
    "    corr_unif = stats.norm().cdf(corr_norm)\n",
    "    x = ppf1(corr_unif[0])\n",
    "    y = ppf2(corr_unif[1])\n",
    "    return x, y"
   ]
  },
  {
   "cell_type": "markdown",
   "metadata": {},
   "source": [
    "This can be used to generate correlated samples from any of the common distributions."
   ]
  },
  {
   "cell_type": "code",
   "execution_count": 3,
   "metadata": {},
   "outputs": [
    {
     "data": {
      "application/vnd.jupyter.widget-view+json": {
       "model_id": "b595d53b395b4a799fbce05322840a9f",
       "version_major": 2,
       "version_minor": 0
      },
      "text/plain": [
       "HBox(children=(FloatProgress(value=0.0, max=1000.0), HTML(value='')))"
      ]
     },
     "metadata": {},
     "output_type": "display_data"
    },
    {
     "name": "stdout",
     "output_type": "stream",
     "text": [
      "\n"
     ]
    },
    {
     "data": {
      "text/plain": [
       "<seaborn.axisgrid.JointGrid at 0x12b461cc0>"
      ]
     },
     "execution_count": 3,
     "metadata": {},
     "output_type": "execute_result"
    },
    {
     "data": {
      "image/png": "[encoded data removed]",
      "text/plain": [
       "<Figure size 432x432 with 3 Axes>"
      ]
     },
     "metadata": {
      "needs_background": "light"
     },
     "output_type": "display_data"
    }
   ],
   "source": [
    "def ex_model():\n",
    "    x, y = correlated_distributions(stats.beta(1,3).ppf, stats.lognorm(1, 10).ppf, corr=.6)\n",
    "    ergo.tag(x, \"beta\")\n",
    "    ergo.tag(y, \"lognorm\")\n",
    "    \n",
    "df = ergo.run(ex_model, 1000)\n",
    "jointplot(df.beta, df.lognorm, marker=\".\")"
   ]
  },
  {
   "cell_type": "markdown",
   "metadata": {},
   "source": [
    "This could pretty eaisily be extended to support other copulas and higher dimensions.\n",
    "\n",
    "The current interface of passing in scipy distributions is obviously super clunky.  While this can be improved, I haven't thought of a way to do this that fits with ergo, is intuitive, and isn't super complicated internally."
   ]
  },
  {
   "cell_type": "markdown",
   "metadata": {},
   "source": [
    "# Imposing correlations on general Ergo distributions\n",
    "\n",
    "What if we want to impose a correlation between two parameters, but we can't easily explicitly describe their shape?  This would happen if the parameters are based on a estimate using Ergo or from a metaculus community distribution, for example.\n",
    "\n",
    "Recall all we need is the ppf.  While we might not know it explictly, we can approximate it!"
   ]
  },
  {
   "cell_type": "code",
   "execution_count": 4,
   "metadata": {},
   "outputs": [],
   "source": [
    "def approximate_ppf(samples):\n",
    "    \"\"\"Takes a collection of samples and returns an approximated ppf.\"\"\"\n",
    "    return lambda q: np.percentile(samples, q*100)\n",
    "\n",
    "def correlate_distributions(samples1, samples2, corr):\n",
    "    \"\"\"Creates a distribution with a given correlation  new distributions with the same shape as the original distributions, but associated by the given\n",
    "    correlation constant.\"\"\"\n",
    "    return correlated_distributions(approximate_ppf(samples1), approximate_ppf(samples2), corr)"
   ]
  },
  {
   "cell_type": "markdown",
   "metadata": {},
   "source": [
    "This is a simple example of correlating a ergo-calculated bimodal distribution with a distribution from guesstimate."
   ]
  },
  {
   "cell_type": "code",
   "execution_count": 21,
   "metadata": {},
   "outputs": [
    {
     "data": {
      "application/vnd.jupyter.widget-view+json": {
       "model_id": "9861ba6e3b5c4fb5b71312e8d924f528",
       "version_major": 2,
       "version_minor": 0
      },
      "text/plain": [
       "HBox(children=(FloatProgress(value=0.0), HTML(value='')))"
      ]
     },
     "metadata": {},
     "output_type": "display_data"
    },
    {
     "name": "stdout",
     "output_type": "stream",
     "text": [
      "\n"
     ]
    },
    {
     "data": {
      "application/vnd.jupyter.widget-view+json": {
       "model_id": "e828e2b39d564956aa4137a374b45d08",
       "version_major": 2,
       "version_minor": 0
      },
      "text/plain": [
       "HBox(children=(FloatProgress(value=0.0, max=1000.0), HTML(value='')))"
      ]
     },
     "metadata": {},
     "output_type": "display_data"
    },
    {
     "name": "stdout",
     "output_type": "stream",
     "text": [
      "\n"
     ]
    },
    {
     "data": {
      "application/vnd.jupyter.widget-view+json": {
       "model_id": "1561d4c4542f4372912c070d9d62dd70",
       "version_major": 2,
       "version_minor": 0
      },
      "text/plain": [
       "HBox(children=(FloatProgress(value=0.0, max=1000.0), HTML(value='')))"
      ]
     },
     "metadata": {},
     "output_type": "display_data"
    },
    {
     "name": "stdout",
     "output_type": "stream",
     "text": [
      "\n"
     ]
    },
    {
     "data": {
      "text/plain": [
       "<seaborn.axisgrid.JointGrid at 0x12db34828>"
      ]
     },
     "execution_count": 21,
     "metadata": {},
     "output_type": "execute_result"
    },
    {
     "data": {
      "image/png": "[encoded data removed]",
      "text/plain": [
       "<Figure size 432x432 with 3 Axes>"
      ]
     },
     "metadata": {
      "needs_background": "light"
     },
     "output_type": "display_data"
    }
   ],
   "source": [
    "metaculus = ergo.Metaculus()\n",
    "\n",
    "# Model the economic indicator:\n",
    "\n",
    "def binary():\n",
    "    return ergo.flip(.6)\n",
    "\n",
    "def bimodal():\n",
    "    b = binary()\n",
    "    ergo.tag(b, \"binary\")\n",
    "    if b:\n",
    "        return ergo.normal(2,1)\n",
    "    else:\n",
    "        return ergo.normal(-2,1)\n",
    "\n",
    "def covid_cases():\n",
    "    return metaculus.get_question(3529).sample_community()\n",
    "\n",
    "# generate samples:\n",
    "\n",
    "covid_samples = ergo.run(covid_cases, 100).output\n",
    "bimodal_samples = ergo.run(bimodal, 1000).output\n",
    "\n",
    "\n",
    "def get_correlated_dists():\n",
    "    x, y = correlate_distributions(covid_samples, bimodal_samples, corr=.4)\n",
    "    ergo.tag(x, \"covid\")\n",
    "    ergo.tag(y, \"bimodal\")\n",
    "    \n",
    "df = ergo.run(get_correlated_dists, 1000)\n",
    "jointplot(df.covid, df.bimodal, marker=\".\")"
   ]
  },
  {
   "cell_type": "markdown",
   "metadata": {},
   "source": [
    "For some intuition, we could say that the binary variable represents the winner of the 2020 presidential race and the bimodal variable is some economic indicator.  We have different expectations for the indicator based on the president, but also expect that will be correlated with how bad covid is.\n",
    "\n",
    "One important thing to note is that if we draw a sample from the correlated economic indicator distribution, we no longer have a way to determine what the value of the binary variable was (who the chosen presidential-winner was).  We are only basing the correlated variable on the pdf, not the distribution that generated it."
   ]
  },
  {
   "cell_type": "markdown",
   "metadata": {},
   "source": [
    "## Multi-dimensional Sample Objects\n",
    "\n",
    "One way to fix this is to use a Samples object that allows for a distribution over multiple values from the model.\n",
    "\n",
    "Obviously the implementation below is a little sketchy and there are many things about the interface and such that can be improved."
   ]
  },
  {
   "cell_type": "code",
   "execution_count": 23,
   "metadata": {},
   "outputs": [],
   "source": [
    "class Samples:\n",
    "    def __init__(self, output, name, iterations=5000, other_cols = []):\n",
    "        \"\"\"Creates a Samples object which saves the distribution over output,\n",
    "        along with any other variables which are given in the list other_cols.\"\"\"\n",
    "        df = ergo.run(output, iterations)\n",
    "        \n",
    "        self.name = name\n",
    "        self.samples = pd.DataFrame()\n",
    "        self.samples[name] = df[\"output\"]\n",
    "        for col in other_cols:\n",
    "            self.samples[col] = df[col]\n",
    "    \n",
    "    def ppf(self, q):\n",
    "        \"\"\"Returns a random sample with the appropriate ppf\"\"\"\n",
    "        output_values = self.samples[self.name]\n",
    "        value = np.percentile(output_values, 100*q, interpolation=\"nearest\")\n",
    "        return self.samples[output_values == value].sample()\n",
    "    \n",
    "    @staticmethod\n",
    "    def correlated_sample(sample1, sample2, corr):\n",
    "        \"\"\"Returns a sample from a multivariate distribution where sample1.output and sample2.output\n",
    "        are associated with the given correlation.  The sample is returned as a dictonary and includes\n",
    "        any other columns that exist in the Samples objects.\"\"\"\n",
    "        corr_norm = ergo.ppl.sample(dist.MultivariateNormal(0, covariance_matrix=[[1,corr], [corr,1]]))\n",
    "        corr_unif = stats.norm().cdf(corr_norm)\n",
    "        \n",
    "        # x and y are both single row panda dfs\n",
    "        x = sample1.ppf(corr_unif[0])\n",
    "        y = sample2.ppf(corr_unif[1])\n",
    "        \n",
    "        sample = {}\n",
    "        for col in x.columns:\n",
    "            sample[col] = x[col].iat[0]\n",
    "        for col in y.columns:\n",
    "            sample[col] = y[col].iat[0]\n",
    "        \n",
    "        return sample"
   ]
  },
  {
   "cell_type": "markdown",
   "metadata": {},
   "source": [
    "Note that the current implimentaiton only samples from points that were actually in the joint distribution that makes it up.  In a one dimensional case it is easy to interpolate the ppf so that the distribution is smooth, instead of just returning an original element of the original samples.  It's not immediately clear to me how to do that well for multi-dimensional distributions, or if it's needed.\n",
    "\n",
    "We can recreate the same model."
   ]
  },
  {
   "cell_type": "code",
   "execution_count": 26,
   "metadata": {},
   "outputs": [
    {
     "data": {
      "application/vnd.jupyter.widget-view+json": {
       "model_id": "a94c813d351c4962b7e105d2625c0920",
       "version_major": 2,
       "version_minor": 0
      },
      "text/plain": [
       "HBox(children=(FloatProgress(value=0.0, max=1000.0), HTML(value='')))"
      ]
     },
     "metadata": {},
     "output_type": "display_data"
    },
    {
     "name": "stdout",
     "output_type": "stream",
     "text": [
      "\n"
     ]
    },
    {
     "data": {
      "application/vnd.jupyter.widget-view+json": {
       "model_id": "c9ec2e53ac6b4ba788f486e18a88893c",
       "version_major": 2,
       "version_minor": 0
      },
      "text/plain": [
       "HBox(children=(FloatProgress(value=0.0), HTML(value='')))"
      ]
     },
     "metadata": {},
     "output_type": "display_data"
    },
    {
     "name": "stdout",
     "output_type": "stream",
     "text": [
      "\n"
     ]
    },
    {
     "data": {
      "application/vnd.jupyter.widget-view+json": {
       "model_id": "69269181cc054ec5b896a80c52f4a46a",
       "version_major": 2,
       "version_minor": 0
      },
      "text/plain": [
       "HBox(children=(FloatProgress(value=0.0, max=1000.0), HTML(value='')))"
      ]
     },
     "metadata": {},
     "output_type": "display_data"
    },
    {
     "name": "stdout",
     "output_type": "stream",
     "text": [
      "\n"
     ]
    },
    {
     "data": {
      "text/plain": [
       "<seaborn.axisgrid.JointGrid at 0x12e1b76a0>"
      ]
     },
     "execution_count": 26,
     "metadata": {},
     "output_type": "execute_result"
    },
    {
     "data": {
      "image/png": "[encoded data removed]",
      "text/plain": [
       "<Figure size 432x432 with 3 Axes>"
      ]
     },
     "metadata": {
      "needs_background": "light"
     },
     "output_type": "display_data"
    }
   ],
   "source": [
    "bimodal_sample_obj = Samples(bimodal, \"bimodal\", iterations=1000, other_cols=[\"binary\"])\n",
    "covid_sample_obj = Samples(covid_cases, \"covid\", iterations=100)\n",
    "\n",
    "def joint_sample():\n",
    "    sample =  Samples.correlated_sample(bimodal_sample_obj, covid_sample_obj, .4)\n",
    "    ergo.tag(sample[\"bimodal\"], \"bimodal\")\n",
    "    ergo.tag(sample[\"binary\"], \"binary\")\n",
    "    ergo.tag(sample[\"covid\"], \"covid\")\n",
    "\n",
    "df = ergo.run(joint_sample, 1000)\n",
    "jointplot(df.bimodal, df.covid, marker=\".\")"
   ]
  },
  {
   "cell_type": "markdown",
   "metadata": {},
   "source": [
    "This implementation allows us to get the corresponding value of the binary variable for any sample from the bimodal variable.  However, note that correlation can introduce some strange effects as the binary variable is now also associated with covid cases, perhaps unintentionally!  For example, it could be the case that both the winner of the presidential race and the near term covid cases effect the economic variable, but the presential winner and the covid cases should be independant of each other.\n",
    "\n",
    "This example underscores a general point -- if there is a clear direction of causality, it's probalby better to build that into the model rather than to use correlations.  It maybe also is a reason to not give users access to these variables after creating the correlated distributions.  "
   ]
  },
  {
   "cell_type": "markdown",
   "metadata": {},
   "source": [
    "### Empirical Distributions\n",
    "\n",
    "The idea of a Sample object is very close to the idea of a `EmpiricalDistribution` discussed in [issue #128](https://github.com/oughtinc/ergo/issues/128).  I think something closer to that would be the best way to make a change like this.\n",
    "\n",
    "I'm not sure if such a change is a good idea.  It makes Ergo somewhat more complicated: the difference between functions that sample from distributions (e.g. `ergo.normal`) and distribution objects (e.g. `EmpiricalDistribution`) is somewhat subtle and could be confusing to users.  Using correlated distributions in the middle of a model is still somewhat confusing here, as you need to go from sampling functions -> empirical distributions -> a correlated joint distribution -> sampling functions.  But that does well represent what is required to perform the calculations.\n",
    "\n",
    "I think the change would have lots of other advantages too!  It seems like a natural place to put functions related to visualizations, submission to metaculus, perhaps saving the model to be reused later, etc.  It could be an intuitive way to cache an expensive sub-step of a model (eg. pulling a 1000 samples from Metaculus) if you are tweaking an running the model many times in a row.  It would also allow for variance reduction techniques to be used during the sampling process itself -- although I personally don't understand these in detail."
   ]
  },
  {
   "cell_type": "markdown",
   "metadata": {},
   "source": [
    "# Future Directions / Next steps\n",
    "\n",
    "Here are some possible solutions that might make sense, from easiest to hardest.\n",
    "\n",
    " - Add an example notebook demonstrating how to do correlated distributions to ergo using copulas as in the first part of this notebook.  Don't add anything to the codebase.\n",
    " - Add some utility functions that make it somewhat easier to add correlated distributions.  E.g. a function `correlate(distributions or samples, corr_coeff, copula)` which returns a tuple of corresponding values. This function would behave somewhat differently from the rest of the codebase -- for instance, requiring samples to be passed in.  It would also make the distribution's samples independant from the previous steps of the model.\n",
    " - Add an Empirical_Distribution object that could be used instead of `run`.  Add support for correlations using that.\n",
    "   - Either built to exist alongside `run` or to eventual replace it entirely.\n",
    "   - Could be as simple as an object that gives a home for operations that act on collections of samples.  Or it could  incorporate variance reduction techniques.\n",
    "   \n",
    "   \n",
    "My thoughts: I like the idea of Empirical Distributions for reasons that have nothing to do with correlations.  If EDs are going to be added anyway, it's a more intuitive way to build in support for correlations. I don't think they seem worth it to add only for this purpose -- it's a lot of complexity without a good enough reason.\n",
    "\n",
    "Otherwise, I think I'd weakly-lean towards the middle option of giving them support in the code-base over just having them as an example in a notebook or in the documentation."
   ]
  }
 ],
 "metadata": {
  "kernelspec": {
   "display_name": "Python 3",
   "language": "python",
   "name": "python3"
  },
  "language_info": {
   "codemirror_mode": {
    "name": "ipython",
    "version": 3
   },
   "file_extension": ".py",
   "mimetype": "text/x-python",
   "name": "python",
   "nbconvert_exporter": "python",
   "pygments_lexer": "ipython3",
   "version": "3.6.9"
  }
 },
 "nbformat": 4,
 "nbformat_minor": 4
}
